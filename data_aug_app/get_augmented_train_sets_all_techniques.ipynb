{
 "cells": [
  {
   "cell_type": "markdown",
   "id": "f69b0b09",
   "metadata": {},
   "source": [
    "# Initialization"
   ]
  },
  {
   "cell_type": "code",
   "execution_count": 1,
   "id": "1d8fc5c4",
   "metadata": {},
   "outputs": [],
   "source": [
    "from random import sample, seed\n",
    "from reda_augmenter import Augmenter\n",
    "from utils_data import *\n",
    "from os.path import join\n",
    "\n",
    "\n",
    "seed(852)"
   ]
  },
  {
   "cell_type": "code",
   "execution_count": 2,
   "id": "cbb2de85",
   "metadata": {},
   "outputs": [],
   "source": [
    "def train_aug_all(sizes, size_names, dire):\n",
    "    \n",
    "    train = load_dataset('train.txt', dire)\n",
    "    \n",
    "    for size, name in zip(sizes, size_names):\n",
    "        subset = text_sampling(train, size)\n",
    "        fpath = join(dire, f\"train_{name}\")\n",
    "        saveTextFile(subset, fpath + \".txt\")\n",
    "        \n",
    "        aug_data = Augmenter().do_all_aug(subset)\n",
    "        check_empty_line(aug_data, raise_err=True)\n",
    "        saveTextFile(aug_data, f\"{fpath}_aug_all.txt\")"
   ]
  },
  {
   "cell_type": "code",
   "execution_count": 3,
   "id": "047fc37f",
   "metadata": {},
   "outputs": [],
   "source": [
    "sizes = [1000, 5000, 10000, 20000, 30000, 40000, 50000]\n",
    "size_names = ['1k', '5k', '10k', '20k', '30k', '40k', 'full']"
   ]
  },
  {
   "cell_type": "markdown",
   "id": "c8610082",
   "metadata": {},
   "source": [
    "# Quora"
   ]
  },
  {
   "cell_type": "code",
   "execution_count": 4,
   "id": "7cce2109",
   "metadata": {},
   "outputs": [
    {
     "name": "stdout",
     "output_type": "stream",
     "text": [
      "Quora/train_1k.txt has been saved!\n"
     ]
    },
    {
     "name": "stderr",
     "output_type": "stream",
     "text": [
      "100%|█████████████████████████████████████| 1000/1000 [00:00<00:00, 6258.88it/s]\n"
     ]
    },
    {
     "name": "stdout",
     "output_type": "stream",
     "text": [
      "Texts augmented.\n",
      "Before (reda): 1000. Now: 15584\n",
      "Quora/train_1k_aug_all.txt has been saved!\n",
      "Quora/train_5k.txt has been saved!\n"
     ]
    },
    {
     "name": "stderr",
     "output_type": "stream",
     "text": [
      "100%|█████████████████████████████████████| 5000/5000 [00:00<00:00, 7104.59it/s]\n"
     ]
    },
    {
     "name": "stdout",
     "output_type": "stream",
     "text": [
      "Texts augmented.\n",
      "Before (reda): 5000. Now: 76771\n",
      "Quora/train_5k_aug_all.txt has been saved!\n",
      "Quora/train_10k.txt has been saved!\n"
     ]
    },
    {
     "name": "stderr",
     "output_type": "stream",
     "text": [
      "100%|███████████████████████████████████| 10000/10000 [00:01<00:00, 6701.63it/s]\n"
     ]
    },
    {
     "name": "stdout",
     "output_type": "stream",
     "text": [
      "Texts augmented.\n",
      "Before (reda): 10000. Now: 152910\n",
      "Quora/train_10k_aug_all.txt has been saved!\n",
      "Quora/train_20k.txt has been saved!\n"
     ]
    },
    {
     "name": "stderr",
     "output_type": "stream",
     "text": [
      "100%|███████████████████████████████████| 20000/20000 [00:02<00:00, 6720.94it/s]\n"
     ]
    },
    {
     "name": "stdout",
     "output_type": "stream",
     "text": [
      "Texts augmented.\n",
      "Before (reda): 20000. Now: 305368\n",
      "Quora/train_20k_aug_all.txt has been saved!\n",
      "Quora/train_30k.txt has been saved!\n"
     ]
    },
    {
     "name": "stderr",
     "output_type": "stream",
     "text": [
      "100%|███████████████████████████████████| 30000/30000 [00:04<00:00, 7340.64it/s]\n"
     ]
    },
    {
     "name": "stdout",
     "output_type": "stream",
     "text": [
      "Texts augmented.\n",
      "Before (reda): 30000. Now: 458694\n",
      "Quora/train_30k_aug_all.txt has been saved!\n",
      "Quora/train_40k.txt has been saved!\n"
     ]
    },
    {
     "name": "stderr",
     "output_type": "stream",
     "text": [
      "100%|███████████████████████████████████| 40000/40000 [00:05<00:00, 7262.72it/s]\n"
     ]
    },
    {
     "name": "stdout",
     "output_type": "stream",
     "text": [
      "Texts augmented.\n",
      "Before (reda): 40000. Now: 611165\n",
      "Quora/train_40k_aug_all.txt has been saved!\n",
      "Quora/train_full.txt has been saved!\n"
     ]
    },
    {
     "name": "stderr",
     "output_type": "stream",
     "text": [
      "100%|███████████████████████████████████| 50000/50000 [00:06<00:00, 7437.36it/s]\n"
     ]
    },
    {
     "name": "stdout",
     "output_type": "stream",
     "text": [
      "Texts augmented.\n",
      "Before (reda): 50000. Now: 764242\n",
      "Quora/train_full_aug_all.txt has been saved!\n"
     ]
    }
   ],
   "source": [
    "train_aug_all(sizes, size_names, 'Quora/')"
   ]
  },
  {
   "cell_type": "markdown",
   "id": "18e83ca2",
   "metadata": {},
   "source": [
    "# MNLI"
   ]
  },
  {
   "cell_type": "code",
   "execution_count": 5,
   "id": "b801a12b",
   "metadata": {},
   "outputs": [
    {
     "name": "stdout",
     "output_type": "stream",
     "text": [
      "MNLI/train_1k.txt has been saved!\n"
     ]
    },
    {
     "name": "stderr",
     "output_type": "stream",
     "text": [
      "100%|█████████████████████████████████████| 1000/1000 [00:00<00:00, 5435.22it/s]\n"
     ]
    },
    {
     "name": "stdout",
     "output_type": "stream",
     "text": [
      "Texts augmented.\n",
      "Before (reda): 1000. Now: 17152\n",
      "MNLI/train_1k_aug_all.txt has been saved!\n",
      "MNLI/train_5k.txt has been saved!\n"
     ]
    },
    {
     "name": "stderr",
     "output_type": "stream",
     "text": [
      "100%|█████████████████████████████████████| 5000/5000 [00:00<00:00, 5087.43it/s]\n"
     ]
    },
    {
     "name": "stdout",
     "output_type": "stream",
     "text": [
      "Texts augmented.\n",
      "Before (reda): 5000. Now: 85675\n",
      "MNLI/train_5k_aug_all.txt has been saved!\n",
      "MNLI/train_10k.txt has been saved!\n"
     ]
    },
    {
     "name": "stderr",
     "output_type": "stream",
     "text": [
      "100%|███████████████████████████████████| 10000/10000 [00:01<00:00, 5089.85it/s]\n"
     ]
    },
    {
     "name": "stdout",
     "output_type": "stream",
     "text": [
      "Texts augmented.\n",
      "Before (reda): 10000. Now: 170082\n",
      "MNLI/train_10k_aug_all.txt has been saved!\n",
      "MNLI/train_20k.txt has been saved!\n"
     ]
    },
    {
     "name": "stderr",
     "output_type": "stream",
     "text": [
      "100%|███████████████████████████████████| 20000/20000 [00:03<00:00, 5433.83it/s]\n"
     ]
    },
    {
     "name": "stdout",
     "output_type": "stream",
     "text": [
      "Texts augmented.\n",
      "Before (reda): 20000. Now: 341460\n",
      "MNLI/train_20k_aug_all.txt has been saved!\n",
      "MNLI/train_30k.txt has been saved!\n"
     ]
    },
    {
     "name": "stderr",
     "output_type": "stream",
     "text": [
      "100%|███████████████████████████████████| 30000/30000 [00:05<00:00, 5552.18it/s]\n"
     ]
    },
    {
     "name": "stdout",
     "output_type": "stream",
     "text": [
      "Texts augmented.\n",
      "Before (reda): 30000. Now: 512319\n",
      "MNLI/train_30k_aug_all.txt has been saved!\n",
      "MNLI/train_40k.txt has been saved!\n"
     ]
    },
    {
     "name": "stderr",
     "output_type": "stream",
     "text": [
      "100%|███████████████████████████████████| 40000/40000 [00:07<00:00, 5323.15it/s]\n"
     ]
    },
    {
     "name": "stdout",
     "output_type": "stream",
     "text": [
      "Texts augmented.\n",
      "Before (reda): 40000. Now: 683623\n",
      "MNLI/train_40k_aug_all.txt has been saved!\n",
      "MNLI/train_full.txt has been saved!\n"
     ]
    },
    {
     "name": "stderr",
     "output_type": "stream",
     "text": [
      "100%|███████████████████████████████████| 50000/50000 [00:08<00:00, 5567.68it/s]\n"
     ]
    },
    {
     "name": "stdout",
     "output_type": "stream",
     "text": [
      "Texts augmented.\n",
      "Before (reda): 50000. Now: 854255\n",
      "MNLI/train_full_aug_all.txt has been saved!\n"
     ]
    }
   ],
   "source": [
    "train_aug_all(sizes, size_names, 'MNLI/')"
   ]
  },
  {
   "cell_type": "markdown",
   "id": "3302c696",
   "metadata": {},
   "source": [
    "# SNLI"
   ]
  },
  {
   "cell_type": "code",
   "execution_count": 6,
   "id": "ec664f37",
   "metadata": {},
   "outputs": [
    {
     "name": "stdout",
     "output_type": "stream",
     "text": [
      "SNLI/train_1k.txt has been saved!\n"
     ]
    },
    {
     "name": "stderr",
     "output_type": "stream",
     "text": [
      "100%|█████████████████████████████████████| 1000/1000 [00:00<00:00, 5482.34it/s]\n"
     ]
    },
    {
     "name": "stdout",
     "output_type": "stream",
     "text": [
      "Texts augmented.\n",
      "Before (reda): 1000. Now: 17205\n",
      "SNLI/train_1k_aug_all.txt has been saved!\n",
      "SNLI/train_5k.txt has been saved!\n"
     ]
    },
    {
     "name": "stderr",
     "output_type": "stream",
     "text": [
      "100%|█████████████████████████████████████| 5000/5000 [00:00<00:00, 5417.49it/s]\n"
     ]
    },
    {
     "name": "stdout",
     "output_type": "stream",
     "text": [
      "Texts augmented.\n",
      "Before (reda): 5000. Now: 85138\n",
      "SNLI/train_5k_aug_all.txt has been saved!\n",
      "SNLI/train_10k.txt has been saved!\n"
     ]
    },
    {
     "name": "stderr",
     "output_type": "stream",
     "text": [
      "100%|███████████████████████████████████| 10000/10000 [00:01<00:00, 5187.24it/s]\n"
     ]
    },
    {
     "name": "stdout",
     "output_type": "stream",
     "text": [
      "Texts augmented.\n",
      "Before (reda): 10000. Now: 170277\n",
      "SNLI/train_10k_aug_all.txt has been saved!\n",
      "SNLI/train_20k.txt has been saved!\n"
     ]
    },
    {
     "name": "stderr",
     "output_type": "stream",
     "text": [
      "100%|███████████████████████████████████| 20000/20000 [00:03<00:00, 5332.91it/s]\n"
     ]
    },
    {
     "name": "stdout",
     "output_type": "stream",
     "text": [
      "Texts augmented.\n",
      "Before (reda): 20000. Now: 341092\n",
      "SNLI/train_20k_aug_all.txt has been saved!\n",
      "SNLI/train_30k.txt has been saved!\n"
     ]
    },
    {
     "name": "stderr",
     "output_type": "stream",
     "text": [
      "100%|███████████████████████████████████| 30000/30000 [00:05<00:00, 5467.05it/s]\n"
     ]
    },
    {
     "name": "stdout",
     "output_type": "stream",
     "text": [
      "Texts augmented.\n",
      "Before (reda): 30000. Now: 511891\n",
      "SNLI/train_30k_aug_all.txt has been saved!\n",
      "SNLI/train_40k.txt has been saved!\n"
     ]
    },
    {
     "name": "stderr",
     "output_type": "stream",
     "text": [
      "100%|███████████████████████████████████| 40000/40000 [00:07<00:00, 5518.94it/s]\n"
     ]
    },
    {
     "name": "stdout",
     "output_type": "stream",
     "text": [
      "Texts augmented.\n",
      "Before (reda): 40000. Now: 682750\n",
      "SNLI/train_40k_aug_all.txt has been saved!\n",
      "SNLI/train_full.txt has been saved!\n"
     ]
    },
    {
     "name": "stderr",
     "output_type": "stream",
     "text": [
      "100%|███████████████████████████████████| 50000/50000 [00:08<00:00, 5592.18it/s]\n"
     ]
    },
    {
     "name": "stdout",
     "output_type": "stream",
     "text": [
      "Texts augmented.\n",
      "Before (reda): 50000. Now: 852950\n",
      "SNLI/train_full_aug_all.txt has been saved!\n"
     ]
    }
   ],
   "source": [
    "train_aug_all(sizes, size_names, 'SNLI/')"
   ]
  }
 ],
 "metadata": {
  "kernelspec": {
   "display_name": "Python 3 (ipykernel)",
   "language": "python",
   "name": "python3"
  },
  "language_info": {
   "codemirror_mode": {
    "name": "ipython",
    "version": 3
   },
   "file_extension": ".py",
   "mimetype": "text/x-python",
   "name": "python",
   "nbconvert_exporter": "python",
   "pygments_lexer": "ipython3",
   "version": "3.9.6"
  }
 },
 "nbformat": 4,
 "nbformat_minor": 5
}
