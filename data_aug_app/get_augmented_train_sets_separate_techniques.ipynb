{
 "cells": [
  {
   "cell_type": "markdown",
   "id": "f69b0b09",
   "metadata": {},
   "source": [
    "# Initialization"
   ]
  },
  {
   "cell_type": "code",
   "execution_count": 1,
   "id": "1d8fc5c4",
   "metadata": {},
   "outputs": [],
   "source": [
    "from random import sample, seed\n",
    "from reda_augmenter import Augmenter\n",
    "from utils_data import *\n",
    "from os.path import join\n",
    "\n",
    "\n",
    "seed(43)"
   ]
  },
  {
   "cell_type": "code",
   "execution_count": 2,
   "id": "cbb2de85",
   "metadata": {},
   "outputs": [],
   "source": [
    "def train_aug(augFunc, aug_name, edit_rates, directories):\n",
    "    \n",
    "    for dire in directories:\n",
    "        train = load_dataset('train_full.txt', dire)\n",
    "    \n",
    "        for rate in edit_rates:\n",
    "            fpath = join(dire, f\"train_full\")            \n",
    "            aug_data = augFunc(train, rate)\n",
    "            check_empty_line(aug_data, raise_err=True)\n",
    "            saveTextFile(aug_data, f\"{fpath}_aug_{aug_name}_{rate}.txt\")"
   ]
  },
  {
   "cell_type": "code",
   "execution_count": 3,
   "id": "047fc37f",
   "metadata": {},
   "outputs": [],
   "source": [
    "edit_rates = [0.05, 0.1, 0.2, 0.3, 0.4, 0.5]\n",
    "directories = ['Quora/', 'MNLI/', 'SNLI/']\n",
    "Aug = Augmenter()"
   ]
  },
  {
   "cell_type": "markdown",
   "id": "c8610082",
   "metadata": {},
   "source": [
    "# Synonym Replacement"
   ]
  },
  {
   "cell_type": "code",
   "execution_count": 4,
   "id": "7cce2109",
   "metadata": {},
   "outputs": [
    {
     "name": "stderr",
     "output_type": "stream",
     "text": [
      "100%|██████████████████████████████████| 50000/50000 [00:01<00:00, 38386.07it/s]\n"
     ]
    },
    {
     "name": "stdout",
     "output_type": "stream",
     "text": [
      "Texts augmented.\n",
      "Before (reda): 50000. Now: 126294\n",
      "Quora/train_full_aug_sr_0.05.txt has been saved!\n"
     ]
    },
    {
     "name": "stderr",
     "output_type": "stream",
     "text": [
      "100%|██████████████████████████████████| 50000/50000 [00:02<00:00, 24678.58it/s]\n"
     ]
    },
    {
     "name": "stdout",
     "output_type": "stream",
     "text": [
      "Texts augmented.\n",
      "Before (reda): 50000. Now: 226169\n",
      "Quora/train_full_aug_sr_0.1.txt has been saved!\n"
     ]
    },
    {
     "name": "stderr",
     "output_type": "stream",
     "text": [
      "100%|██████████████████████████████████| 50000/50000 [00:02<00:00, 20915.67it/s]\n"
     ]
    },
    {
     "name": "stdout",
     "output_type": "stream",
     "text": [
      "Texts augmented.\n",
      "Before (reda): 50000. Now: 242353\n",
      "Quora/train_full_aug_sr_0.2.txt has been saved!\n"
     ]
    },
    {
     "name": "stderr",
     "output_type": "stream",
     "text": [
      "100%|██████████████████████████████████| 50000/50000 [00:02<00:00, 17604.89it/s]\n"
     ]
    },
    {
     "name": "stdout",
     "output_type": "stream",
     "text": [
      "Texts augmented.\n",
      "Before (reda): 50000. Now: 243613\n",
      "Quora/train_full_aug_sr_0.3.txt has been saved!\n"
     ]
    },
    {
     "name": "stderr",
     "output_type": "stream",
     "text": [
      "100%|██████████████████████████████████| 50000/50000 [00:02<00:00, 18052.93it/s]\n"
     ]
    },
    {
     "name": "stdout",
     "output_type": "stream",
     "text": [
      "Texts augmented.\n",
      "Before (reda): 50000. Now: 243775\n",
      "Quora/train_full_aug_sr_0.4.txt has been saved!\n"
     ]
    },
    {
     "name": "stderr",
     "output_type": "stream",
     "text": [
      "100%|██████████████████████████████████| 50000/50000 [00:03<00:00, 15548.55it/s]\n"
     ]
    },
    {
     "name": "stdout",
     "output_type": "stream",
     "text": [
      "Texts augmented.\n",
      "Before (reda): 50000. Now: 243897\n",
      "Quora/train_full_aug_sr_0.5.txt has been saved!\n"
     ]
    },
    {
     "name": "stderr",
     "output_type": "stream",
     "text": [
      "100%|██████████████████████████████████| 50000/50000 [00:01<00:00, 31234.34it/s]\n"
     ]
    },
    {
     "name": "stdout",
     "output_type": "stream",
     "text": [
      "Texts augmented.\n",
      "Before (reda): 50000. Now: 162101\n",
      "MNLI/train_full_aug_sr_0.05.txt has been saved!\n"
     ]
    },
    {
     "name": "stderr",
     "output_type": "stream",
     "text": [
      "100%|██████████████████████████████████| 50000/50000 [00:02<00:00, 21422.88it/s]\n"
     ]
    },
    {
     "name": "stdout",
     "output_type": "stream",
     "text": [
      "Texts augmented.\n",
      "Before (reda): 50000. Now: 224978\n",
      "MNLI/train_full_aug_sr_0.1.txt has been saved!\n"
     ]
    },
    {
     "name": "stderr",
     "output_type": "stream",
     "text": [
      "100%|██████████████████████████████████| 50000/50000 [00:02<00:00, 17292.44it/s]\n"
     ]
    },
    {
     "name": "stdout",
     "output_type": "stream",
     "text": [
      "Texts augmented.\n",
      "Before (reda): 50000. Now: 242014\n",
      "MNLI/train_full_aug_sr_0.2.txt has been saved!\n"
     ]
    },
    {
     "name": "stderr",
     "output_type": "stream",
     "text": [
      "100%|██████████████████████████████████| 50000/50000 [00:03<00:00, 14993.67it/s]\n"
     ]
    },
    {
     "name": "stdout",
     "output_type": "stream",
     "text": [
      "Texts augmented.\n",
      "Before (reda): 50000. Now: 243867\n",
      "MNLI/train_full_aug_sr_0.3.txt has been saved!\n"
     ]
    },
    {
     "name": "stderr",
     "output_type": "stream",
     "text": [
      "100%|██████████████████████████████████| 50000/50000 [00:03<00:00, 12563.86it/s]\n"
     ]
    },
    {
     "name": "stdout",
     "output_type": "stream",
     "text": [
      "Texts augmented.\n",
      "Before (reda): 50000. Now: 243909\n",
      "MNLI/train_full_aug_sr_0.4.txt has been saved!\n"
     ]
    },
    {
     "name": "stderr",
     "output_type": "stream",
     "text": [
      "100%|██████████████████████████████████| 50000/50000 [00:03<00:00, 13409.49it/s]\n"
     ]
    },
    {
     "name": "stdout",
     "output_type": "stream",
     "text": [
      "Texts augmented.\n",
      "Before (reda): 50000. Now: 243968\n",
      "MNLI/train_full_aug_sr_0.5.txt has been saved!\n"
     ]
    },
    {
     "name": "stderr",
     "output_type": "stream",
     "text": [
      "100%|██████████████████████████████████| 50000/50000 [00:01<00:00, 31600.41it/s]\n"
     ]
    },
    {
     "name": "stdout",
     "output_type": "stream",
     "text": [
      "Texts augmented.\n",
      "Before (reda): 50000. Now: 162057\n",
      "SNLI/train_full_aug_sr_0.05.txt has been saved!\n"
     ]
    },
    {
     "name": "stderr",
     "output_type": "stream",
     "text": [
      "100%|██████████████████████████████████| 50000/50000 [00:02<00:00, 20665.96it/s]\n"
     ]
    },
    {
     "name": "stdout",
     "output_type": "stream",
     "text": [
      "Texts augmented.\n",
      "Before (reda): 50000. Now: 224462\n",
      "SNLI/train_full_aug_sr_0.1.txt has been saved!\n"
     ]
    },
    {
     "name": "stderr",
     "output_type": "stream",
     "text": [
      "100%|██████████████████████████████████| 50000/50000 [00:02<00:00, 17511.79it/s]\n"
     ]
    },
    {
     "name": "stdout",
     "output_type": "stream",
     "text": [
      "Texts augmented.\n",
      "Before (reda): 50000. Now: 242107\n",
      "SNLI/train_full_aug_sr_0.2.txt has been saved!\n"
     ]
    },
    {
     "name": "stderr",
     "output_type": "stream",
     "text": [
      "100%|██████████████████████████████████| 50000/50000 [00:03<00:00, 15107.05it/s]\n"
     ]
    },
    {
     "name": "stdout",
     "output_type": "stream",
     "text": [
      "Texts augmented.\n",
      "Before (reda): 50000. Now: 243872\n",
      "SNLI/train_full_aug_sr_0.3.txt has been saved!\n"
     ]
    },
    {
     "name": "stderr",
     "output_type": "stream",
     "text": [
      "100%|██████████████████████████████████| 50000/50000 [00:03<00:00, 13255.77it/s]\n"
     ]
    },
    {
     "name": "stdout",
     "output_type": "stream",
     "text": [
      "Texts augmented.\n",
      "Before (reda): 50000. Now: 244043\n",
      "SNLI/train_full_aug_sr_0.4.txt has been saved!\n"
     ]
    },
    {
     "name": "stderr",
     "output_type": "stream",
     "text": [
      "100%|██████████████████████████████████| 50000/50000 [00:04<00:00, 12154.98it/s]\n"
     ]
    },
    {
     "name": "stdout",
     "output_type": "stream",
     "text": [
      "Texts augmented.\n",
      "Before (reda): 50000. Now: 244108\n",
      "SNLI/train_full_aug_sr_0.5.txt has been saved!\n"
     ]
    }
   ],
   "source": [
    "train_aug(Aug.replace_syn, 'sr', edit_rates, directories)"
   ]
  },
  {
   "cell_type": "markdown",
   "id": "18e83ca2",
   "metadata": {},
   "source": [
    "# Random Swap"
   ]
  },
  {
   "cell_type": "code",
   "execution_count": 5,
   "id": "b801a12b",
   "metadata": {},
   "outputs": [
    {
     "name": "stderr",
     "output_type": "stream",
     "text": [
      "100%|██████████████████████████████████| 50000/50000 [00:01<00:00, 45136.53it/s]\n"
     ]
    },
    {
     "name": "stdout",
     "output_type": "stream",
     "text": [
      "Texts augmented.\n",
      "Before (reda): 50000. Now: 127050\n",
      "Quora/train_full_aug_rs_0.05.txt has been saved!\n"
     ]
    },
    {
     "name": "stderr",
     "output_type": "stream",
     "text": [
      "100%|██████████████████████████████████| 50000/50000 [00:01<00:00, 28417.20it/s]\n"
     ]
    },
    {
     "name": "stdout",
     "output_type": "stream",
     "text": [
      "Texts augmented.\n",
      "Before (reda): 50000. Now: 230789\n",
      "Quora/train_full_aug_rs_0.1.txt has been saved!\n"
     ]
    },
    {
     "name": "stderr",
     "output_type": "stream",
     "text": [
      "100%|██████████████████████████████████| 50000/50000 [00:03<00:00, 15888.89it/s]\n"
     ]
    },
    {
     "name": "stdout",
     "output_type": "stream",
     "text": [
      "Texts augmented.\n",
      "Before (reda): 50000. Now: 245154\n",
      "Quora/train_full_aug_rs_0.2.txt has been saved!\n"
     ]
    },
    {
     "name": "stderr",
     "output_type": "stream",
     "text": [
      "100%|██████████████████████████████████| 50000/50000 [00:03<00:00, 15861.53it/s]\n"
     ]
    },
    {
     "name": "stdout",
     "output_type": "stream",
     "text": [
      "Texts augmented.\n",
      "Before (reda): 50000. Now: 244983\n",
      "Quora/train_full_aug_rs_0.3.txt has been saved!\n"
     ]
    },
    {
     "name": "stderr",
     "output_type": "stream",
     "text": [
      "100%|██████████████████████████████████| 50000/50000 [00:03<00:00, 13423.62it/s]\n"
     ]
    },
    {
     "name": "stdout",
     "output_type": "stream",
     "text": [
      "Texts augmented.\n",
      "Before (reda): 50000. Now: 246316\n",
      "Quora/train_full_aug_rs_0.4.txt has been saved!\n"
     ]
    },
    {
     "name": "stderr",
     "output_type": "stream",
     "text": [
      "100%|██████████████████████████████████| 50000/50000 [00:04<00:00, 11280.58it/s]\n"
     ]
    },
    {
     "name": "stdout",
     "output_type": "stream",
     "text": [
      "Texts augmented.\n",
      "Before (reda): 50000. Now: 246825\n",
      "Quora/train_full_aug_rs_0.5.txt has been saved!\n"
     ]
    },
    {
     "name": "stderr",
     "output_type": "stream",
     "text": [
      "100%|██████████████████████████████████| 50000/50000 [00:01<00:00, 39536.98it/s]\n"
     ]
    },
    {
     "name": "stdout",
     "output_type": "stream",
     "text": [
      "Texts augmented.\n",
      "Before (reda): 50000. Now: 162938\n",
      "MNLI/train_full_aug_rs_0.05.txt has been saved!\n"
     ]
    },
    {
     "name": "stderr",
     "output_type": "stream",
     "text": [
      "100%|██████████████████████████████████| 50000/50000 [00:02<00:00, 23380.79it/s]\n"
     ]
    },
    {
     "name": "stdout",
     "output_type": "stream",
     "text": [
      "Texts augmented.\n",
      "Before (reda): 50000. Now: 227595\n",
      "MNLI/train_full_aug_rs_0.1.txt has been saved!\n"
     ]
    },
    {
     "name": "stderr",
     "output_type": "stream",
     "text": [
      "100%|██████████████████████████████████| 50000/50000 [00:03<00:00, 16311.03it/s]\n"
     ]
    },
    {
     "name": "stdout",
     "output_type": "stream",
     "text": [
      "Texts augmented.\n",
      "Before (reda): 50000. Now: 244211\n",
      "MNLI/train_full_aug_rs_0.2.txt has been saved!\n"
     ]
    },
    {
     "name": "stderr",
     "output_type": "stream",
     "text": [
      "100%|██████████████████████████████████| 50000/50000 [00:03<00:00, 13127.93it/s]\n"
     ]
    },
    {
     "name": "stdout",
     "output_type": "stream",
     "text": [
      "Texts augmented.\n",
      "Before (reda): 50000. Now: 245075\n",
      "MNLI/train_full_aug_rs_0.3.txt has been saved!\n"
     ]
    },
    {
     "name": "stderr",
     "output_type": "stream",
     "text": [
      "100%|██████████████████████████████████| 50000/50000 [00:04<00:00, 10689.16it/s]\n"
     ]
    },
    {
     "name": "stdout",
     "output_type": "stream",
     "text": [
      "Texts augmented.\n",
      "Before (reda): 50000. Now: 245416\n",
      "MNLI/train_full_aug_rs_0.4.txt has been saved!\n"
     ]
    },
    {
     "name": "stderr",
     "output_type": "stream",
     "text": [
      "100%|███████████████████████████████████| 50000/50000 [00:05<00:00, 9045.92it/s]\n"
     ]
    },
    {
     "name": "stdout",
     "output_type": "stream",
     "text": [
      "Texts augmented.\n",
      "Before (reda): 50000. Now: 245013\n",
      "MNLI/train_full_aug_rs_0.5.txt has been saved!\n"
     ]
    },
    {
     "name": "stderr",
     "output_type": "stream",
     "text": [
      "100%|██████████████████████████████████| 50000/50000 [00:01<00:00, 35844.87it/s]\n"
     ]
    },
    {
     "name": "stdout",
     "output_type": "stream",
     "text": [
      "Texts augmented.\n",
      "Before (reda): 50000. Now: 162877\n",
      "SNLI/train_full_aug_rs_0.05.txt has been saved!\n"
     ]
    },
    {
     "name": "stderr",
     "output_type": "stream",
     "text": [
      "100%|██████████████████████████████████| 50000/50000 [00:02<00:00, 23840.01it/s]\n"
     ]
    },
    {
     "name": "stdout",
     "output_type": "stream",
     "text": [
      "Texts augmented.\n",
      "Before (reda): 50000. Now: 227054\n",
      "SNLI/train_full_aug_rs_0.1.txt has been saved!\n"
     ]
    },
    {
     "name": "stderr",
     "output_type": "stream",
     "text": [
      "100%|██████████████████████████████████| 50000/50000 [00:02<00:00, 16889.35it/s]\n"
     ]
    },
    {
     "name": "stdout",
     "output_type": "stream",
     "text": [
      "Texts augmented.\n",
      "Before (reda): 50000. Now: 244274\n",
      "SNLI/train_full_aug_rs_0.2.txt has been saved!\n"
     ]
    },
    {
     "name": "stderr",
     "output_type": "stream",
     "text": [
      "100%|██████████████████████████████████| 50000/50000 [00:03<00:00, 13009.75it/s]\n"
     ]
    },
    {
     "name": "stdout",
     "output_type": "stream",
     "text": [
      "Texts augmented.\n",
      "Before (reda): 50000. Now: 244930\n",
      "SNLI/train_full_aug_rs_0.3.txt has been saved!\n"
     ]
    },
    {
     "name": "stderr",
     "output_type": "stream",
     "text": [
      "100%|██████████████████████████████████| 50000/50000 [00:04<00:00, 10420.97it/s]\n"
     ]
    },
    {
     "name": "stdout",
     "output_type": "stream",
     "text": [
      "Texts augmented.\n",
      "Before (reda): 50000. Now: 245279\n",
      "SNLI/train_full_aug_rs_0.4.txt has been saved!\n"
     ]
    },
    {
     "name": "stderr",
     "output_type": "stream",
     "text": [
      "100%|███████████████████████████████████| 50000/50000 [00:05<00:00, 9287.19it/s]\n"
     ]
    },
    {
     "name": "stdout",
     "output_type": "stream",
     "text": [
      "Texts augmented.\n",
      "Before (reda): 50000. Now: 244949\n",
      "SNLI/train_full_aug_rs_0.5.txt has been saved!\n"
     ]
    }
   ],
   "source": [
    "train_aug(Aug.swap_words, 'rs', edit_rates, directories)"
   ]
  },
  {
   "cell_type": "markdown",
   "id": "3302c696",
   "metadata": {},
   "source": [
    "# Random Insertion"
   ]
  },
  {
   "cell_type": "code",
   "execution_count": 6,
   "id": "ec664f37",
   "metadata": {},
   "outputs": [
    {
     "name": "stderr",
     "output_type": "stream",
     "text": [
      "100%|██████████████████████████████████| 50000/50000 [00:01<00:00, 43556.74it/s]\n"
     ]
    },
    {
     "name": "stdout",
     "output_type": "stream",
     "text": [
      "Texts augmented.\n",
      "Before (reda): 50000. Now: 126219\n",
      "Quora/train_full_aug_ri_0.05.txt has been saved!\n"
     ]
    },
    {
     "name": "stderr",
     "output_type": "stream",
     "text": [
      "100%|██████████████████████████████████| 50000/50000 [00:01<00:00, 25575.59it/s]\n"
     ]
    },
    {
     "name": "stdout",
     "output_type": "stream",
     "text": [
      "Texts augmented.\n",
      "Before (reda): 50000. Now: 226316\n",
      "Quora/train_full_aug_ri_0.1.txt has been saved!\n"
     ]
    },
    {
     "name": "stderr",
     "output_type": "stream",
     "text": [
      "100%|██████████████████████████████████| 50000/50000 [00:02<00:00, 18546.24it/s]\n"
     ]
    },
    {
     "name": "stdout",
     "output_type": "stream",
     "text": [
      "Texts augmented.\n",
      "Before (reda): 50000. Now: 243062\n",
      "Quora/train_full_aug_ri_0.2.txt has been saved!\n"
     ]
    },
    {
     "name": "stderr",
     "output_type": "stream",
     "text": [
      "100%|██████████████████████████████████| 50000/50000 [00:03<00:00, 16266.37it/s]\n"
     ]
    },
    {
     "name": "stdout",
     "output_type": "stream",
     "text": [
      "Texts augmented.\n",
      "Before (reda): 50000. Now: 245221\n",
      "Quora/train_full_aug_ri_0.3.txt has been saved!\n"
     ]
    },
    {
     "name": "stderr",
     "output_type": "stream",
     "text": [
      "100%|██████████████████████████████████| 50000/50000 [00:03<00:00, 14608.55it/s]\n"
     ]
    },
    {
     "name": "stdout",
     "output_type": "stream",
     "text": [
      "Texts augmented.\n",
      "Before (reda): 50000. Now: 245815\n",
      "Quora/train_full_aug_ri_0.4.txt has been saved!\n"
     ]
    },
    {
     "name": "stderr",
     "output_type": "stream",
     "text": [
      "100%|██████████████████████████████████| 50000/50000 [00:03<00:00, 13749.42it/s]\n"
     ]
    },
    {
     "name": "stdout",
     "output_type": "stream",
     "text": [
      "Texts augmented.\n",
      "Before (reda): 50000. Now: 246065\n",
      "Quora/train_full_aug_ri_0.5.txt has been saved!\n"
     ]
    },
    {
     "name": "stderr",
     "output_type": "stream",
     "text": [
      "100%|██████████████████████████████████| 50000/50000 [00:01<00:00, 29593.87it/s]\n"
     ]
    },
    {
     "name": "stdout",
     "output_type": "stream",
     "text": [
      "Texts augmented.\n",
      "Before (reda): 50000. Now: 162194\n",
      "MNLI/train_full_aug_ri_0.05.txt has been saved!\n"
     ]
    },
    {
     "name": "stderr",
     "output_type": "stream",
     "text": [
      "100%|██████████████████████████████████| 50000/50000 [00:02<00:00, 22015.27it/s]\n"
     ]
    },
    {
     "name": "stdout",
     "output_type": "stream",
     "text": [
      "Texts augmented.\n",
      "Before (reda): 50000. Now: 224957\n",
      "MNLI/train_full_aug_ri_0.1.txt has been saved!\n"
     ]
    },
    {
     "name": "stderr",
     "output_type": "stream",
     "text": [
      "100%|██████████████████████████████████| 50000/50000 [00:03<00:00, 16535.22it/s]\n"
     ]
    },
    {
     "name": "stdout",
     "output_type": "stream",
     "text": [
      "Texts augmented.\n",
      "Before (reda): 50000. Now: 242580\n",
      "MNLI/train_full_aug_ri_0.2.txt has been saved!\n"
     ]
    },
    {
     "name": "stderr",
     "output_type": "stream",
     "text": [
      "100%|██████████████████████████████████| 50000/50000 [00:03<00:00, 14112.37it/s]\n"
     ]
    },
    {
     "name": "stdout",
     "output_type": "stream",
     "text": [
      "Texts augmented.\n",
      "Before (reda): 50000. Now: 244903\n",
      "MNLI/train_full_aug_ri_0.3.txt has been saved!\n"
     ]
    },
    {
     "name": "stderr",
     "output_type": "stream",
     "text": [
      "100%|██████████████████████████████████| 50000/50000 [00:04<00:00, 12074.71it/s]\n"
     ]
    },
    {
     "name": "stdout",
     "output_type": "stream",
     "text": [
      "Texts augmented.\n",
      "Before (reda): 50000. Now: 245380\n",
      "MNLI/train_full_aug_ri_0.4.txt has been saved!\n"
     ]
    },
    {
     "name": "stderr",
     "output_type": "stream",
     "text": [
      "100%|██████████████████████████████████| 50000/50000 [00:04<00:00, 10774.24it/s]\n"
     ]
    },
    {
     "name": "stdout",
     "output_type": "stream",
     "text": [
      "Texts augmented.\n",
      "Before (reda): 50000. Now: 245645\n",
      "MNLI/train_full_aug_ri_0.5.txt has been saved!\n"
     ]
    },
    {
     "name": "stderr",
     "output_type": "stream",
     "text": [
      "100%|██████████████████████████████████| 50000/50000 [00:01<00:00, 27878.93it/s]\n"
     ]
    },
    {
     "name": "stdout",
     "output_type": "stream",
     "text": [
      "Texts augmented.\n",
      "Before (reda): 50000. Now: 162068\n",
      "SNLI/train_full_aug_ri_0.05.txt has been saved!\n"
     ]
    },
    {
     "name": "stderr",
     "output_type": "stream",
     "text": [
      "100%|██████████████████████████████████| 50000/50000 [00:02<00:00, 20329.45it/s]\n"
     ]
    },
    {
     "name": "stdout",
     "output_type": "stream",
     "text": [
      "Texts augmented.\n",
      "Before (reda): 50000. Now: 224586\n",
      "SNLI/train_full_aug_ri_0.1.txt has been saved!\n"
     ]
    },
    {
     "name": "stderr",
     "output_type": "stream",
     "text": [
      "100%|██████████████████████████████████| 50000/50000 [00:03<00:00, 16089.88it/s]\n"
     ]
    },
    {
     "name": "stdout",
     "output_type": "stream",
     "text": [
      "Texts augmented.\n",
      "Before (reda): 50000. Now: 242624\n",
      "SNLI/train_full_aug_ri_0.2.txt has been saved!\n"
     ]
    },
    {
     "name": "stderr",
     "output_type": "stream",
     "text": [
      "100%|██████████████████████████████████| 50000/50000 [00:03<00:00, 13750.95it/s]\n"
     ]
    },
    {
     "name": "stdout",
     "output_type": "stream",
     "text": [
      "Texts augmented.\n",
      "Before (reda): 50000. Now: 245096\n",
      "SNLI/train_full_aug_ri_0.3.txt has been saved!\n"
     ]
    },
    {
     "name": "stderr",
     "output_type": "stream",
     "text": [
      "100%|██████████████████████████████████| 50000/50000 [00:04<00:00, 12458.61it/s]\n"
     ]
    },
    {
     "name": "stdout",
     "output_type": "stream",
     "text": [
      "Texts augmented.\n",
      "Before (reda): 50000. Now: 245574\n",
      "SNLI/train_full_aug_ri_0.4.txt has been saved!\n"
     ]
    },
    {
     "name": "stderr",
     "output_type": "stream",
     "text": [
      "100%|██████████████████████████████████| 50000/50000 [00:04<00:00, 10955.96it/s]\n"
     ]
    },
    {
     "name": "stdout",
     "output_type": "stream",
     "text": [
      "Texts augmented.\n",
      "Before (reda): 50000. Now: 245883\n",
      "SNLI/train_full_aug_ri_0.5.txt has been saved!\n"
     ]
    }
   ],
   "source": [
    "train_aug(Aug.insert_words, 'ri', edit_rates, directories)"
   ]
  },
  {
   "cell_type": "markdown",
   "id": "6f109ec9",
   "metadata": {},
   "source": [
    "# Random Deletion"
   ]
  },
  {
   "cell_type": "code",
   "execution_count": 7,
   "id": "762d1a00",
   "metadata": {},
   "outputs": [
    {
     "name": "stderr",
     "output_type": "stream",
     "text": [
      "100%|██████████████████████████████████| 50000/50000 [00:01<00:00, 49040.85it/s]\n"
     ]
    },
    {
     "name": "stdout",
     "output_type": "stream",
     "text": [
      "Texts augmented.\n",
      "Before (reda): 50000. Now: 125463\n",
      "Quora/train_full_aug_rd_0.05.txt has been saved!\n"
     ]
    },
    {
     "name": "stderr",
     "output_type": "stream",
     "text": [
      "100%|██████████████████████████████████| 50000/50000 [00:01<00:00, 32162.47it/s]\n"
     ]
    },
    {
     "name": "stdout",
     "output_type": "stream",
     "text": [
      "Texts augmented.\n",
      "Before (reda): 50000. Now: 225242\n",
      "Quora/train_full_aug_rd_0.1.txt has been saved!\n"
     ]
    },
    {
     "name": "stderr",
     "output_type": "stream",
     "text": [
      "100%|██████████████████████████████████| 50000/50000 [00:01<00:00, 27380.11it/s]\n"
     ]
    },
    {
     "name": "stdout",
     "output_type": "stream",
     "text": [
      "Texts augmented.\n",
      "Before (reda): 50000. Now: 244018\n",
      "Quora/train_full_aug_rd_0.2.txt has been saved!\n"
     ]
    },
    {
     "name": "stderr",
     "output_type": "stream",
     "text": [
      "100%|██████████████████████████████████| 50000/50000 [00:01<00:00, 25847.85it/s]\n"
     ]
    },
    {
     "name": "stdout",
     "output_type": "stream",
     "text": [
      "Texts augmented.\n",
      "Before (reda): 50000. Now: 246842\n",
      "Row Index # 111880 empty: ('', 'hh', 1)\n",
      "\n"
     ]
    },
    {
     "ename": "ValueError",
     "evalue": "A line is empty",
     "output_type": "error",
     "traceback": [
      "\u001b[0;31m---------------------------------------------------------------------------\u001b[0m",
      "\u001b[0;31mValueError\u001b[0m                                Traceback (most recent call last)",
      "\u001b[0;32m/var/folders/w9/d_nplhzj4qx35xxlgljgdtjh0000gn/T/ipykernel_75761/2725391342.py\u001b[0m in \u001b[0;36m<module>\u001b[0;34m\u001b[0m\n\u001b[0;32m----> 1\u001b[0;31m \u001b[0mtrain_aug\u001b[0m\u001b[0;34m(\u001b[0m\u001b[0mAug\u001b[0m\u001b[0;34m.\u001b[0m\u001b[0mdelete_words\u001b[0m\u001b[0;34m,\u001b[0m \u001b[0;34m'rd'\u001b[0m\u001b[0;34m,\u001b[0m \u001b[0medit_rates\u001b[0m\u001b[0;34m,\u001b[0m \u001b[0mdirectories\u001b[0m\u001b[0;34m)\u001b[0m\u001b[0;34m\u001b[0m\u001b[0;34m\u001b[0m\u001b[0m\n\u001b[0m",
      "\u001b[0;32m/var/folders/w9/d_nplhzj4qx35xxlgljgdtjh0000gn/T/ipykernel_75761/801127822.py\u001b[0m in \u001b[0;36mtrain_aug\u001b[0;34m(augFunc, aug_name, edit_rates, directories)\u001b[0m\n\u001b[1;32m      7\u001b[0m             \u001b[0mfpath\u001b[0m \u001b[0;34m=\u001b[0m \u001b[0mjoin\u001b[0m\u001b[0;34m(\u001b[0m\u001b[0mdire\u001b[0m\u001b[0;34m,\u001b[0m \u001b[0;34mf\"train_full\"\u001b[0m\u001b[0;34m)\u001b[0m\u001b[0;34m\u001b[0m\u001b[0;34m\u001b[0m\u001b[0m\n\u001b[1;32m      8\u001b[0m             \u001b[0maug_data\u001b[0m \u001b[0;34m=\u001b[0m \u001b[0maugFunc\u001b[0m\u001b[0;34m(\u001b[0m\u001b[0mtrain\u001b[0m\u001b[0;34m,\u001b[0m \u001b[0mrate\u001b[0m\u001b[0;34m)\u001b[0m\u001b[0;34m\u001b[0m\u001b[0;34m\u001b[0m\u001b[0m\n\u001b[0;32m----> 9\u001b[0;31m             \u001b[0mcheck_empty_line\u001b[0m\u001b[0;34m(\u001b[0m\u001b[0maug_data\u001b[0m\u001b[0;34m,\u001b[0m \u001b[0mraise_err\u001b[0m\u001b[0;34m=\u001b[0m\u001b[0;32mTrue\u001b[0m\u001b[0;34m)\u001b[0m\u001b[0;34m\u001b[0m\u001b[0;34m\u001b[0m\u001b[0m\n\u001b[0m\u001b[1;32m     10\u001b[0m             \u001b[0msaveTextFile\u001b[0m\u001b[0;34m(\u001b[0m\u001b[0maug_data\u001b[0m\u001b[0;34m,\u001b[0m \u001b[0;34mf\"{fpath}_aug_{aug_name}_{rate}.txt\"\u001b[0m\u001b[0;34m)\u001b[0m\u001b[0;34m\u001b[0m\u001b[0;34m\u001b[0m\u001b[0m\n",
      "\u001b[0;32m~/Documents/Research/2022_Workshop_Neg_Res/data/utils_data.py\u001b[0m in \u001b[0;36mcheck_empty_line\u001b[0;34m(data, raise_err)\u001b[0m\n\u001b[1;32m    108\u001b[0m \u001b[0;34m\u001b[0m\u001b[0m\n\u001b[1;32m    109\u001b[0m             \u001b[0;32mif\u001b[0m \u001b[0mraise_err\u001b[0m\u001b[0;34m:\u001b[0m\u001b[0;34m\u001b[0m\u001b[0;34m\u001b[0m\u001b[0m\n\u001b[0;32m--> 110\u001b[0;31m                 \u001b[0;32mraise\u001b[0m \u001b[0mValueError\u001b[0m\u001b[0;34m(\u001b[0m\u001b[0;34m\"A line is empty\"\u001b[0m\u001b[0;34m)\u001b[0m\u001b[0;34m\u001b[0m\u001b[0;34m\u001b[0m\u001b[0m\n\u001b[0m\u001b[1;32m    111\u001b[0m \u001b[0;34m\u001b[0m\u001b[0m\n\u001b[1;32m    112\u001b[0m \u001b[0;34m\u001b[0m\u001b[0m\n",
      "\u001b[0;31mValueError\u001b[0m: A line is empty"
     ]
    }
   ],
   "source": [
    "train_aug(Aug.delete_words, 'rd', edit_rates, directories)"
   ]
  },
  {
   "cell_type": "markdown",
   "id": "b56833dc",
   "metadata": {},
   "source": [
    "# Random Mix"
   ]
  },
  {
   "cell_type": "code",
   "execution_count": null,
   "id": "cb117221",
   "metadata": {},
   "outputs": [],
   "source": [
    "train_aug(Aug.mixed_edits, 'rm', edit_rates, directories)"
   ]
  }
 ],
 "metadata": {
  "kernelspec": {
   "display_name": "Python 3 (ipykernel)",
   "language": "python",
   "name": "python3"
  },
  "language_info": {
   "codemirror_mode": {
    "name": "ipython",
    "version": 3
   },
   "file_extension": ".py",
   "mimetype": "text/x-python",
   "name": "python",
   "nbconvert_exporter": "python",
   "pygments_lexer": "ipython3",
   "version": "3.9.6"
  }
 },
 "nbformat": 4,
 "nbformat_minor": 5
}
