{
 "cells": [
  {
   "cell_type": "markdown",
   "id": "f30735cc",
   "metadata": {},
   "source": [
    "# About\n",
    "\n",
    "This notebook provides code for getting the English synonym dictionary from [`WordNet`](https://wordnet.princeton.edu) via [`nltk`](https://www.nltk.org). You can learn how to install `nltk` [here](https://www.nltk.org/install.html). Once it has been installed, you can then download `WordNet` for English by the following code:\n",
    "\n",
    "```python\n",
    ">>> import nltk\n",
    ">>> nltk.download('wordnet')\n",
    "```\n",
    "\n",
    "To get started, you can click [here](https://www.nltk.org/howto/wordnet.html) to learn sample usage for wordnet in nltk.\n",
    "\n",
    "**If you do not want to download nltk, that is fine. The compiled synonym dictionary is already in this folder so you can reuse it directly.**\n",
    "\n",
    "**Please also note that**, following [EDA](https://github.com/jasonwei20/eda_nlp), I did not take into account the parts of speech when compiling the syEnglish synonym dictionary."
   ]
  },
  {
   "cell_type": "markdown",
   "id": "9e1f3fff",
   "metadata": {},
   "source": [
    "## Initialization"
   ]
  },
  {
   "cell_type": "code",
   "execution_count": 1,
   "id": "6cb95f03",
   "metadata": {},
   "outputs": [],
   "source": [
    "import nltk\n",
    "from nltk.corpus import wordnet as wn\n",
    "from nltk.corpus import stopwords"
   ]
  },
  {
   "cell_type": "code",
   "execution_count": 2,
   "id": "63213ebf",
   "metadata": {},
   "outputs": [],
   "source": [
    "def findSyn(w):\n",
    "    return [e.lemma_names() for e in wn.synsets(w)]"
   ]
  },
  {
   "cell_type": "code",
   "execution_count": 3,
   "id": "2e27a277",
   "metadata": {},
   "outputs": [
    {
     "data": {
      "text/plain": [
       "[['like', 'the_like', 'the_likes_of'],\n",
       " ['like', 'ilk'],\n",
       " ['wish', 'care', 'like'],\n",
       " ['like'],\n",
       " ['like'],\n",
       " ['like'],\n",
       " ['like'],\n",
       " ['like', 'similar'],\n",
       " ['like', 'same'],\n",
       " ['alike', 'similar', 'like'],\n",
       " ['comparable', 'corresponding', 'like']]"
      ]
     },
     "execution_count": 3,
     "metadata": {},
     "output_type": "execute_result"
    }
   ],
   "source": [
    "findSyn('like')"
   ]
  },
  {
   "cell_type": "markdown",
   "id": "2df557a2",
   "metadata": {},
   "source": [
    "## Words and phrases"
   ]
  },
  {
   "cell_type": "code",
   "execution_count": 4,
   "id": "9405cc77",
   "metadata": {},
   "outputs": [
    {
     "data": {
      "text/plain": [
       "(147229,\n",
       " ['.22-caliber',\n",
       "  '.22-calibre',\n",
       "  '.22_caliber',\n",
       "  '.22_calibre',\n",
       "  '.38-caliber',\n",
       "  '.38-calibre',\n",
       "  '.38_caliber',\n",
       "  '.38_calibre',\n",
       "  '.45-caliber',\n",
       "  '.45-calibre'])"
      ]
     },
     "execution_count": 4,
     "metadata": {},
     "output_type": "execute_result"
    }
   ],
   "source": [
    "stop_words = stopwords.words('english') # stopwords will not be included\n",
    "\n",
    "words = [w for w in wn.all_lemma_names() if w not in stop_words]\n",
    "len(words), words[:10]"
   ]
  },
  {
   "cell_type": "code",
   "execution_count": 5,
   "id": "95967832",
   "metadata": {},
   "outputs": [
    {
     "data": {
      "text/plain": [
       "(64188,\n",
       " ['.22_caliber',\n",
       "  '.22_calibre',\n",
       "  '.38_caliber',\n",
       "  '.38_calibre',\n",
       "  '.45_caliber',\n",
       "  '.45_calibre',\n",
       "  'a_cappella',\n",
       "  'a_couple_of',\n",
       "  'a_few',\n",
       "  'a_la_carte'])"
      ]
     },
     "execution_count": 5,
     "metadata": {},
     "output_type": "execute_result"
    }
   ],
   "source": [
    "phrases = [w for w in words if '_' in w]\n",
    "len(phrases), phrases[:10]"
   ]
  },
  {
   "cell_type": "markdown",
   "id": "8253ef9c",
   "metadata": {},
   "source": [
    "## Making syn dic"
   ]
  },
  {
   "cell_type": "code",
   "execution_count": 6,
   "id": "a38ac1f4",
   "metadata": {},
   "outputs": [
    {
     "name": "stdout",
     "output_type": "stream",
     "text": [
      "117131\n"
     ]
    }
   ],
   "source": [
    "syn_wn = {}\n",
    "trans_fn = lambda x: x.replace(\"_\", \" \")\n",
    "\n",
    "\n",
    "for w in words:\n",
    "    added = []\n",
    "    syn_lst = findSyn(w)\n",
    "    for lst in syn_lst:\n",
    "        lst_ = lst.copy()\n",
    "        \n",
    "        if w in lst_:\n",
    "            lst_.remove(w)\n",
    "        \n",
    "        if lst_:\n",
    "            added.extend([trans_fn(l) for  l in lst_])\n",
    "    if added:\n",
    "        syn_wn[trans_fn(w)] = added\n",
    "        \n",
    "\n",
    "print(len(syn_wn))"
   ]
  },
  {
   "cell_type": "code",
   "execution_count": 7,
   "id": "251baecc",
   "metadata": {},
   "outputs": [
    {
     "data": {
      "text/plain": [
       "['.22-caliber',\n",
       " '.22-calibre',\n",
       " '.22 caliber',\n",
       " '.22 calibre',\n",
       " '.38-caliber',\n",
       " '.38-calibre',\n",
       " '.38 caliber',\n",
       " '.38 calibre',\n",
       " '.45-caliber',\n",
       " '.45-calibre']"
      ]
     },
     "execution_count": 7,
     "metadata": {},
     "output_type": "execute_result"
    }
   ],
   "source": [
    "keys = list(syn_wn.keys())\n",
    "keys[:10]"
   ]
  },
  {
   "cell_type": "code",
   "execution_count": 8,
   "id": "f2bf591e",
   "metadata": {},
   "outputs": [
    {
     "data": {
      "text/plain": [
       "['.22-caliber', '.22 calibre', '.22-calibre']"
      ]
     },
     "execution_count": 8,
     "metadata": {},
     "output_type": "execute_result"
    }
   ],
   "source": [
    "syn_wn['.22 caliber']"
   ]
  },
  {
   "cell_type": "markdown",
   "id": "4770fb80",
   "metadata": {},
   "source": [
    "## Saving syn dict"
   ]
  },
  {
   "cell_type": "code",
   "execution_count": 9,
   "id": "bff905a6",
   "metadata": {},
   "outputs": [],
   "source": [
    "import pickle\n",
    "\n",
    "pickle.dump(syn_wn, open('synonyms', 'wb'))"
   ]
  }
 ],
 "metadata": {
  "kernelspec": {
   "display_name": "Python 3 (ipykernel)",
   "language": "python",
   "name": "python3"
  },
  "language_info": {
   "codemirror_mode": {
    "name": "ipython",
    "version": 3
   },
   "file_extension": ".py",
   "mimetype": "text/x-python",
   "name": "python",
   "nbconvert_exporter": "python",
   "pygments_lexer": "ipython3",
   "version": "3.9.6"
  }
 },
 "nbformat": 4,
 "nbformat_minor": 5
}
